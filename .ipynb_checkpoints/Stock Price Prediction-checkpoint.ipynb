{
 "cells": [
  {
   "cell_type": "code",
   "execution_count": 7,
   "metadata": {},
   "outputs": [],
   "source": [
    "import numpy as np\n",
    "import matplotlib.pyplot as plt\n",
    "import pandas as pd\n",
    "import pandas_datareader as web\n",
    "import datetime as dt\n",
    "from sklearn.preprocessing import MinMaxScaler\n",
    "from tensorflow.keras.models import Sequential\n",
    "from tensorflow.keras.layers import Dense, Dropout, LSTM"
   ]
  },
  {
   "cell_type": "code",
   "execution_count": 10,
   "metadata": {},
   "outputs": [],
   "source": [
    "#loading data\n",
    "\n",
    "company = 'NIO'\n",
    "\n",
    "start = dt.datetime(2018,1,1)\n",
    "end = dt.datetime(2020,1,1)\n",
    "data = web.DataReader(company, 'yahoo', start, end)"
   ]
  },
  {
   "cell_type": "code",
   "execution_count": 9,
   "metadata": {},
   "outputs": [],
   "source": [
    "#prepare date\n",
    "scaler = MinMaxScaler(feature_range = (0, 1))\n",
    "scaled_data = scaler.fit_transform(data['Close'].values.reshape(-1, 1))\n",
    "\n",
    "prediction_days = 100\n",
    "\n",
    "x_train = []\n",
    "y_train = []\n",
    "\n",
    "for x in range(prediction_days, len(scaled_data)):\n",
    "    x_train.append(scaled_data[x-prediction_days:x,0])\n",
    "    y_train.append(scaled_data[x, 0])\n",
    "    \n",
    "x_train, y_train = np.array(x_train), np.array(y_train)\n",
    "x_train = np.reshape(x_train, (x_train.shape[0], x_train.shape[1], 1))"
   ]
  },
  {
   "cell_type": "code",
   "execution_count": 63,
   "metadata": {},
   "outputs": [
    {
     "name": "stdout",
     "output_type": "stream",
     "text": [
      "Epoch 1/25\n",
      "13/13 [==============================] - 6s 143ms/step - loss: 0.0647\n",
      "Epoch 2/25\n",
      "13/13 [==============================] - 2s 130ms/step - loss: 0.0169\n",
      "Epoch 3/25\n",
      "13/13 [==============================] - 1s 100ms/step - loss: 0.0108\n",
      "Epoch 4/25\n",
      "13/13 [==============================] - 1s 110ms/step - loss: 0.0072\n",
      "Epoch 5/25\n",
      "13/13 [==============================] - 1s 108ms/step - loss: 0.0066\n",
      "Epoch 6/25\n",
      "13/13 [==============================] - 1s 101ms/step - loss: 0.0051\n",
      "Epoch 7/25\n",
      "13/13 [==============================] - 1s 101ms/step - loss: 0.0051\n",
      "Epoch 8/25\n",
      "13/13 [==============================] - 1s 103ms/step - loss: 0.0052\n",
      "Epoch 9/25\n",
      "13/13 [==============================] - 2s 142ms/step - loss: 0.0048\n",
      "Epoch 10/25\n",
      "13/13 [==============================] - 1s 103ms/step - loss: 0.0048\n",
      "Epoch 11/25\n",
      "13/13 [==============================] - 1s 108ms/step - loss: 0.0052\n",
      "Epoch 12/25\n",
      "13/13 [==============================] - 1s 106ms/step - loss: 0.0046\n",
      "Epoch 13/25\n",
      "13/13 [==============================] - 2s 118ms/step - loss: 0.0044\n",
      "Epoch 14/25\n",
      "13/13 [==============================] - 1s 108ms/step - loss: 0.0057\n",
      "Epoch 15/25\n",
      "13/13 [==============================] - 1s 107ms/step - loss: 0.0043\n",
      "Epoch 16/25\n",
      "13/13 [==============================] - 1s 103ms/step - loss: 0.0048\n",
      "Epoch 17/25\n",
      "13/13 [==============================] - 1s 109ms/step - loss: 0.0042\n",
      "Epoch 18/25\n",
      "13/13 [==============================] - 1s 107ms/step - loss: 0.0036\n",
      "Epoch 19/25\n",
      "13/13 [==============================] - 1s 103ms/step - loss: 0.0039\n",
      "Epoch 20/25\n",
      "13/13 [==============================] - 2s 146ms/step - loss: 0.0037\n",
      "Epoch 21/25\n",
      "13/13 [==============================] - 2s 145ms/step - loss: 0.0037\n",
      "Epoch 22/25\n",
      "13/13 [==============================] - 1s 102ms/step - loss: 0.0041\n",
      "Epoch 23/25\n",
      "13/13 [==============================] - 1s 108ms/step - loss: 0.0034\n",
      "Epoch 24/25\n",
      "13/13 [==============================] - 2s 119ms/step - loss: 0.0034\n",
      "Epoch 25/25\n",
      "13/13 [==============================] - 2s 163ms/step - loss: 0.0036\n"
     ]
    },
    {
     "data": {
      "text/plain": [
       "<tensorflow.python.keras.callbacks.History at 0x7feb94138520>"
      ]
     },
     "execution_count": 63,
     "metadata": {},
     "output_type": "execute_result"
    }
   ],
   "source": [
    "#building the model\n",
    "model = Sequential()\n",
    "\n",
    "model.add(LSTM(units = 50, return_sequences = True, input_shape = (x_train.shape[1], 1)))\n",
    "model.add(Dropout(0.2))\n",
    "model.add(LSTM(units = 50, return_sequences = True))\n",
    "model.add(Dropout(0.2))\n",
    "model.add(LSTM(units = 50))\n",
    "model.add(Dropout(0.2))\n",
    "model.add(Dense(units = 1)) #Prediction of next closing value\n",
    "\n",
    " \n",
    "model.compile(optimizer = 'adam', loss = 'mean_squared_error')\n",
    "model.fit(x_train, y_train, epochs = 25, batch_size = 32)"
   ]
  },
  {
   "cell_type": "code",
   "execution_count": 67,
   "metadata": {},
   "outputs": [],
   "source": [
    "#load test data\n",
    "\n",
    "test_start = dt.datetime(2020,1,1)\n",
    "test_end = dt.datetime.now()\n",
    "\n",
    "test_data = web.DataReader(company, 'yahoo', test_start, test_end)\n",
    "actual_prices = test_data['Close'].values\n",
    "\n",
    "total_dataset = pd.concat((data['Close'], test_data['Close']), axis = 0)\n",
    "\n",
    "model_inputs = total_dataset[len(total_dataset) - len(test_data) - prediction_days:].values\n",
    "model_inputs = model_inputs.reshape(-1, 1)\n",
    "model_inputs = scaler.transform(model_inputs)"
   ]
  },
  {
   "cell_type": "code",
   "execution_count": 68,
   "metadata": {},
   "outputs": [],
   "source": [
    "#makeing predictions on test data\n",
    "\n",
    "x_test = []\n",
    "\n",
    "for x in range(prediction_days, len(model_inputs)):\n",
    "    x_test.append(model_inputs[x-prediction_days:x, 0])\n",
    "\n",
    "x_test = np.array(x_test)\n",
    "x_test = np.reshape(x_test, (x_test.shape[0], x_test.shape[1], 1))\n",
    "\n",
    "predicted_prices = model.predict(x_test)\n",
    "predicted_prices = scaler.inverse_transform(predicted_prices)"
   ]
  },
  {
   "cell_type": "code",
   "execution_count": 69,
   "metadata": {},
   "outputs": [
    {
     "data": {
      "image/png": "[encoded data removed]",
      "text/plain": [
       "<Figure size 432x288 with 1 Axes>"
      ]
     },
     "metadata": {
      "needs_background": "light"
     },
     "output_type": "display_data"
    }
   ],
   "source": [
    "#plot test predictions\n",
    "\n",
    "plt.plot(actual_prices, color=\"black\", label=f\"Actual {company} Price\")\n",
    "plt.plot(predicted_prices, color='green', label=f\"Predicted {company} Price\")\n",
    "plt.title(f\"{company} Share Price\")\n",
    "plt.xlabel('Time')\n",
    "plt.ylabel(f'{company} Share Price')\n",
    "plt.legend()\n",
    "plt.show()"
   ]
  },
  {
   "cell_type": "code",
   "execution_count": 70,
   "metadata": {},
   "outputs": [
    {
     "name": "stdout",
     "output_type": "stream",
     "text": [
      "Prediction: [[148.63841]]\n"
     ]
    }
   ],
   "source": [
    "#predict next day\n",
    "\n",
    "real_data = [model_inputs[len(model_inputs) + 1 - prediction_days:len(model_inputs+1), 0]]\n",
    "real_data = np.array(real_data)\n",
    "real_data = np.reshape(real_data, (real_data.shape[0], real_data.shape[1], 1))\n",
    "\n",
    "prediction = model.predict(real_data)\n",
    "prediction = scaler.inverse_transform(prediction)\n",
    "print(f'Prediction: {prediction}')\n",
    "                        "
   ]
  }
 ],
 "metadata": {
  "kernelspec": {
   "display_name": "Python 3",
   "language": "python",
   "name": "python3"
  },
  "language_info": {
   "codemirror_mode": {
    "name": "ipython",
    "version": 3
   },
   "file_extension": ".py",
   "mimetype": "text/x-python",
   "name": "python",
   "nbconvert_exporter": "python",
   "pygments_lexer": "ipython3",
   "version": "3.8.5"
  }
 },
 "nbformat": 4,
 "nbformat_minor": 4
}
